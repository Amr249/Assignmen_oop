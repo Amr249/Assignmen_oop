{
  "cells": [
    {
      "cell_type": "markdown",
      "metadata": {
        "id": "vj3HPudmuzG-"
      },
      "source": [
        "### Task 1"
      ]
    },
    {
      "cell_type": "markdown",
      "metadata": {
        "id": "Qe_S6JKbuXef"
      },
      "source": [
        "This code defines a simple bank system using Python classes. The `Bank class` manages user accounts, balances, registration, login, balance checking, deposits, and withdrawals. Here's a summary of the functionality:\n",
        "\n",
        "`User Registration`: Allows a user to register by entering a unique username and password. If the username already exists, it prompts the user to choose a different one.\n",
        "\n",
        "`User Login`: Allows a registered user to log in by entering their username and password. If the username and password match, the user is logged in successfully.\n",
        "\n",
        "`Check Balance`: Allows a logged-in user to check their current account balance.\n",
        "\n",
        "`Deposit`: Allows a logged-in user to deposit money into their account. The user enters the deposit amount, which is added to their account balance.\n",
        "\n",
        "`Withdrawal`: Allows a logged-in user to withdraw money from their account, provided they have sufficient balance. The user enters the withdrawal amount, which is deducted from their account balance."
      ]
    },
    {
      "cell_type": "code",
      "execution_count": null,
      "metadata": {},
      "outputs": [],
      "source": [
        "class Bank:\n",
        "    def __init__(self):\n",
        "        self.users = {}\n",
        "\n",
        "    def register(self, username, password):\n",
        "        if username in self.users:\n",
        "            print(\"Username already exists. Please choose a different one.\")\n",
        "            return\n",
        "\n",
        "        self.users[username] = {\"balance\": 0, \"password\": password}\n",
        "        print(\"Registration successful!\")\n",
        "\n",
        "    def login(self, username, password):\n",
        "        if username not in self.users:\n",
        "            print(\"Username does not exist.\")\n",
        "            return\n",
        "\n",
        "        if self.users[username][\"password\"] != password:\n",
        "            print(\"Incorrect password.\")\n",
        "            return\n",
        "\n",
        "        print(f\"Welcome back, {username}!\")\n",
        "        return self.users[username]\n",
        "\n",
        "def main():\n",
        "    bank = Bank()\n",
        "\n",
        "    while True:\n",
        "        print(\"1. Register\")\n",
        "        print(\"2. Login\")\n",
        "        print(\"3. Exit\")\n",
        "\n",
        "        choice = input(\"Enter your choice: \")\n",
        "\n",
        "        if choice == \"1\":\n",
        "            username = input(\"Enter username: \")\n",
        "            password = input(\"Enter password: \")\n",
        "            bank.register(username, password)\n",
        "        elif choice == \"2\":\n",
        "            username = input(\"Enter username: \")\n",
        "            password = input(\"Enter password: \")\n",
        "            user = bank.login(username, password)\n",
        "\n",
        "            if user:\n",
        "                while True:\n",
        "                    print(\"1. Check Balance\")\n",
        "                    print(\"2. Deposit\")\n",
        "                    print(\"3. Withdraw\")\n",
        "                    print(\"4. Logout\")\n",
        "\n",
        "                    choice = input(\"Enter your choice: \")\n",
        "\n",
        "                    if choice == \"1\":\n",
        "                        print(f\"Your balance is: ${user['balance']}\")\n",
        "                    elif choice == \"2\":\n",
        "                        amount = float(input(\"Enter amount to deposit: \"))\n",
        "                        user[\"balance\"] += amount\n",
        "                        print(f\"Deposit successful! Your new balance is: ${user['balance']}\")\n",
        "                    elif choice == \"3\":\n",
        "                        amount = float(input(\"Enter amount to withdraw: \"))\n",
        "                        if amount > user[\"balance\"]:\n",
        "                            print(\"Insufficient funds.\")\n",
        "                        else:\n",
        "                            user[\"balance\"] -= amount\n",
        "                            print(f\"Withdrawal successful! Your new balance is: ${user['balance']}\")\n",
        "                    elif choice == \"4\":\n",
        "                        break\n",
        "                    else:\n",
        "                        print(\"Invalid choice.\")\n",
        "        elif choice == \"3\":\n",
        "            break\n",
        "        else:\n",
        "            print(\"Invalid choice.\")\n",
        "\n",
        "if __name__ == \"__main__\":\n",
        "    main()\n"
      ]
    },
    {
      "cell_type": "markdown",
      "metadata": {
        "id": "adnMuaiQu1-_"
      },
      "source": [
        "### Task 2"
      ]
    },
    {
      "cell_type": "markdown",
      "metadata": {
        "id": "RacJKaSmvOAc"
      },
      "source": [
        "Defines a class named `Library` that represents a `library` system. The class has attributes for a list of games (gameslist), a dictionary of lenders (lenders), and a dictionary of donors (donors). It also includes methods for managing the library's collection of games.\n",
        "\n",
        "`games` method returns the list of games in the library.\n",
        "\n",
        "The `lend method` allows a person to borrow a game from the library by removing the game from the list of games and updating the lenders dictionary with the borrower's name and the borrowed game.\n",
        "\n",
        "The `returnb method` allows a person to return a borrowed game to the library by adding the game back to the list of games and removing the borrower's name from the lenders dictionary.\n",
        "\n",
        "The `donate method` allows a person to donate a new game to the library by adding the game to the list of games and updating the donors dictionary with the donor's name and the donated game."
      ]
    },
    {
      "cell_type": "code",
      "execution_count": null,
      "metadata": {
        "id": "9d6mT0weuCr0"
      },
      "outputs": [],
      "source": [
        "class Library:\n",
        "\n",
        "  def __init__(self):\n",
        "    self.gameslist = []\n",
        "    self.lenders = {}\n",
        "    self.donors = {}\n",
        "\n",
        "  def games(self):\n",
        "    return self.gameslist\n",
        "\n",
        "  def lend(self, game, borrower):\n",
        "    if game in self.gameslist:\n",
        "      self.gameslist.remove(game)\n",
        "      self.lenders[game] = borrower\n",
        "    else:\n",
        "      print(\"Sorry, that game is not available.\")\n",
        "\n",
        "  def return_game(self, game):\n",
        "    if game in self.lenders:\n",
        "      self.gameslist.append(game)\n",
        "      del self.lenders[game]\n",
        "    else:\n",
        "      print(\"That game is not currently borrowed.\")\n",
        "\n",
        "  def donate(self, game, donor):\n",
        "    self.gameslist.append(game)\n",
        "    self.donors[game] = donor\n",
        "\n"
      ]
    }
  ],
  "metadata": {
    "colab": {
      "private_outputs": true,
      "provenance": []
    },
    "kernelspec": {
      "display_name": "Python 3",
      "name": "python3"
    },
    "language_info": {
      "name": "python"
    }
  },
  "nbformat": 4,
  "nbformat_minor": 0
}
